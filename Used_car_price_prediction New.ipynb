{
  "nbformat": 4,
  "nbformat_minor": 0,
  "metadata": {
    "colab": {
      "name": "Used car price prediction.ipynb",
      "provenance": [],
      "collapsed_sections": []
    },
    "kernelspec": {
      "name": "python3",
      "display_name": "Python 3"
    },
    "language_info": {
      "name": "python"
    },
    "accelerator": "GPU"
  },
  "cells": [
    {
      "cell_type": "code",
      "metadata": {
        "id": "Z7nC9eaD-Scl"
      },
      "source": [
        "import pandas as pd\n",
        "import numpy as np\n",
        "import matplotlib.pyplot as plt\n",
        "import seaborn as sns\n",
        "import warnings\n",
        "warnings.filterwarnings('ignore')"
      ],
      "execution_count": 1,
      "outputs": []
    },
    {
      "cell_type": "code",
      "metadata": {
        "id": "QHj57zBcAMoS"
      },
      "source": [
        "cars_df = pd.read_csv(\"https://raw.githubusercontent.com/techierushi/ML-Project---Used-Cars-Prediction/master/cars_data.csv\")"
      ],
      "execution_count": 2,
      "outputs": []
    },
    {
      "cell_type": "code",
      "metadata": {
        "colab": {
          "base_uri": "https://localhost:8080/",
          "height": 326
        },
        "id": "AG28X6CYASaT",
        "outputId": "1eef2d3e-4791-4366-a601-478bc976426c"
      },
      "source": [
        "cars_df.head()"
      ],
      "execution_count": 3,
      "outputs": [
        {
          "output_type": "execute_result",
          "data": {
            "text/html": [
              "<div>\n",
              "<style scoped>\n",
              "    .dataframe tbody tr th:only-of-type {\n",
              "        vertical-align: middle;\n",
              "    }\n",
              "\n",
              "    .dataframe tbody tr th {\n",
              "        vertical-align: top;\n",
              "    }\n",
              "\n",
              "    .dataframe thead th {\n",
              "        text-align: right;\n",
              "    }\n",
              "</style>\n",
              "<table border=\"1\" class=\"dataframe\">\n",
              "  <thead>\n",
              "    <tr style=\"text-align: right;\">\n",
              "      <th></th>\n",
              "      <th>Make</th>\n",
              "      <th>Model</th>\n",
              "      <th>Type</th>\n",
              "      <th>Origin</th>\n",
              "      <th>DriveTrain</th>\n",
              "      <th>MSRP</th>\n",
              "      <th>Invoice</th>\n",
              "      <th>EngineSize</th>\n",
              "      <th>Cylinders</th>\n",
              "      <th>Horsepower</th>\n",
              "      <th>MPG_City</th>\n",
              "      <th>MPG_Highway</th>\n",
              "      <th>Weight</th>\n",
              "      <th>Wheelbase</th>\n",
              "      <th>Length</th>\n",
              "    </tr>\n",
              "  </thead>\n",
              "  <tbody>\n",
              "    <tr>\n",
              "      <th>0</th>\n",
              "      <td>Acura</td>\n",
              "      <td>MDX</td>\n",
              "      <td>SUV</td>\n",
              "      <td>Asia</td>\n",
              "      <td>All</td>\n",
              "      <td>$36,945</td>\n",
              "      <td>$33,337</td>\n",
              "      <td>3.5</td>\n",
              "      <td>6.0</td>\n",
              "      <td>265</td>\n",
              "      <td>17</td>\n",
              "      <td>23</td>\n",
              "      <td>4451</td>\n",
              "      <td>106</td>\n",
              "      <td>189</td>\n",
              "    </tr>\n",
              "    <tr>\n",
              "      <th>1</th>\n",
              "      <td>Acura</td>\n",
              "      <td>RSX Type S 2dr</td>\n",
              "      <td>Sedan</td>\n",
              "      <td>Asia</td>\n",
              "      <td>Front</td>\n",
              "      <td>$23,820</td>\n",
              "      <td>$21,761</td>\n",
              "      <td>2.0</td>\n",
              "      <td>4.0</td>\n",
              "      <td>200</td>\n",
              "      <td>24</td>\n",
              "      <td>31</td>\n",
              "      <td>2778</td>\n",
              "      <td>101</td>\n",
              "      <td>172</td>\n",
              "    </tr>\n",
              "    <tr>\n",
              "      <th>2</th>\n",
              "      <td>Acura</td>\n",
              "      <td>TSX 4dr</td>\n",
              "      <td>Sedan</td>\n",
              "      <td>Asia</td>\n",
              "      <td>Front</td>\n",
              "      <td>$26,990</td>\n",
              "      <td>$24,647</td>\n",
              "      <td>2.4</td>\n",
              "      <td>4.0</td>\n",
              "      <td>200</td>\n",
              "      <td>22</td>\n",
              "      <td>29</td>\n",
              "      <td>3230</td>\n",
              "      <td>105</td>\n",
              "      <td>183</td>\n",
              "    </tr>\n",
              "    <tr>\n",
              "      <th>3</th>\n",
              "      <td>Acura</td>\n",
              "      <td>TL 4dr</td>\n",
              "      <td>Sedan</td>\n",
              "      <td>Asia</td>\n",
              "      <td>Front</td>\n",
              "      <td>$33,195</td>\n",
              "      <td>$30,299</td>\n",
              "      <td>3.2</td>\n",
              "      <td>6.0</td>\n",
              "      <td>270</td>\n",
              "      <td>20</td>\n",
              "      <td>28</td>\n",
              "      <td>3575</td>\n",
              "      <td>108</td>\n",
              "      <td>186</td>\n",
              "    </tr>\n",
              "    <tr>\n",
              "      <th>4</th>\n",
              "      <td>Acura</td>\n",
              "      <td>3.5 RL 4dr</td>\n",
              "      <td>Sedan</td>\n",
              "      <td>Asia</td>\n",
              "      <td>Front</td>\n",
              "      <td>$43,755</td>\n",
              "      <td>$39,014</td>\n",
              "      <td>3.5</td>\n",
              "      <td>6.0</td>\n",
              "      <td>225</td>\n",
              "      <td>18</td>\n",
              "      <td>24</td>\n",
              "      <td>3880</td>\n",
              "      <td>115</td>\n",
              "      <td>197</td>\n",
              "    </tr>\n",
              "  </tbody>\n",
              "</table>\n",
              "</div>"
            ],
            "text/plain": [
              "    Make           Model   Type Origin  ... MPG_Highway Weight Wheelbase  Length\n",
              "0  Acura             MDX    SUV   Asia  ...          23   4451       106     189\n",
              "1  Acura  RSX Type S 2dr  Sedan   Asia  ...          31   2778       101     172\n",
              "2  Acura         TSX 4dr  Sedan   Asia  ...          29   3230       105     183\n",
              "3  Acura          TL 4dr  Sedan   Asia  ...          28   3575       108     186\n",
              "4  Acura      3.5 RL 4dr  Sedan   Asia  ...          24   3880       115     197\n",
              "\n",
              "[5 rows x 15 columns]"
            ]
          },
          "metadata": {
            "tags": []
          },
          "execution_count": 3
        }
      ]
    },
    {
      "cell_type": "code",
      "metadata": {
        "colab": {
          "base_uri": "https://localhost:8080/"
        },
        "id": "cxc9LRuwXg8V",
        "outputId": "7b66a5be-6343-4093-dfe2-b7def3ad64c4"
      },
      "source": [
        "cars_df['DriveTrain'].unique()"
      ],
      "execution_count": 4,
      "outputs": [
        {
          "output_type": "execute_result",
          "data": {
            "text/plain": [
              "array(['All', 'Front', 'Rear'], dtype=object)"
            ]
          },
          "metadata": {
            "tags": []
          },
          "execution_count": 4
        }
      ]
    },
    {
      "cell_type": "code",
      "metadata": {
        "colab": {
          "base_uri": "https://localhost:8080/"
        },
        "id": "2tySksycAy2M",
        "outputId": "dcd09f55-2d3e-4d8c-a798-8e33b64b615a"
      },
      "source": [
        "cars_df['Make'].unique()"
      ],
      "execution_count": 5,
      "outputs": [
        {
          "output_type": "execute_result",
          "data": {
            "text/plain": [
              "array(['Acura', 'Audi', 'BMW', 'Buick', 'Cadillac', 'Chevrolet',\n",
              "       'Chrysler', 'Dodge', 'Ford', 'GMC', 'Honda', 'Hummer', 'Hyundai',\n",
              "       'Infiniti', 'Isuzu', 'Jaguar', 'Jeep', 'Kia', 'Land Rover',\n",
              "       'Lexus', 'Lincoln', 'MINI', 'Mazda', 'Mercedes-Benz', 'Mercury',\n",
              "       'Mitsubishi', 'Nissan', 'Oldsmobile', 'Pontiac', 'Porsche', 'Saab',\n",
              "       'Saturn', 'Scion', 'Subaru', 'Suzuki', 'Toyota', 'Volkswagen',\n",
              "       'Volvo'], dtype=object)"
            ]
          },
          "metadata": {
            "tags": []
          },
          "execution_count": 5
        }
      ]
    },
    {
      "cell_type": "code",
      "metadata": {
        "colab": {
          "base_uri": "https://localhost:8080/"
        },
        "id": "E4aU2c1xAlKZ",
        "outputId": "ea8315b2-82ff-4f03-8f9c-cbeff38951b8"
      },
      "source": [
        "cars_df['Make'].value_counts()"
      ],
      "execution_count": 6,
      "outputs": [
        {
          "output_type": "execute_result",
          "data": {
            "text/plain": [
              "Toyota           28\n",
              "Chevrolet        27\n",
              "Mercedes-Benz    26\n",
              "Ford             23\n",
              "BMW              20\n",
              "Audi             19\n",
              "Nissan           17\n",
              "Honda            17\n",
              "Chrysler         15\n",
              "Volkswagen       15\n",
              "Mitsubishi       13\n",
              "Dodge            13\n",
              "Jaguar           12\n",
              "Volvo            12\n",
              "Hyundai          12\n",
              "Subaru           11\n",
              "Pontiac          11\n",
              "Kia              11\n",
              "Mazda            11\n",
              "Lexus            11\n",
              "Lincoln           9\n",
              "Buick             9\n",
              "Mercury           9\n",
              "Saturn            8\n",
              "Suzuki            8\n",
              "Cadillac          8\n",
              "GMC               8\n",
              "Infiniti          8\n",
              "Acura             7\n",
              "Porsche           7\n",
              "Saab              7\n",
              "Oldsmobile        3\n",
              "Jeep              3\n",
              "Land Rover        3\n",
              "Scion             2\n",
              "MINI              2\n",
              "Isuzu             2\n",
              "Hummer            1\n",
              "Name: Make, dtype: int64"
            ]
          },
          "metadata": {
            "tags": []
          },
          "execution_count": 6
        }
      ]
    },
    {
      "cell_type": "code",
      "metadata": {
        "colab": {
          "base_uri": "https://localhost:8080/"
        },
        "id": "SGzQNThlCCxC",
        "outputId": "51807021-de48-4b65-d138-5c03464a15b8"
      },
      "source": [
        "cars_df.shape"
      ],
      "execution_count": 7,
      "outputs": [
        {
          "output_type": "execute_result",
          "data": {
            "text/plain": [
              "(428, 15)"
            ]
          },
          "metadata": {
            "tags": []
          },
          "execution_count": 7
        }
      ]
    },
    {
      "cell_type": "code",
      "metadata": {
        "colab": {
          "base_uri": "https://localhost:8080/"
        },
        "id": "_5-YgoDdAT1f",
        "outputId": "5c68af3a-9bcf-4663-8926-35b5ec37b375"
      },
      "source": [
        "cars_df.info()"
      ],
      "execution_count": 8,
      "outputs": [
        {
          "output_type": "stream",
          "text": [
            "<class 'pandas.core.frame.DataFrame'>\n",
            "RangeIndex: 428 entries, 0 to 427\n",
            "Data columns (total 15 columns):\n",
            " #   Column       Non-Null Count  Dtype  \n",
            "---  ------       --------------  -----  \n",
            " 0   Make         428 non-null    object \n",
            " 1   Model        428 non-null    object \n",
            " 2   Type         428 non-null    object \n",
            " 3   Origin       428 non-null    object \n",
            " 4   DriveTrain   428 non-null    object \n",
            " 5   MSRP         428 non-null    object \n",
            " 6   Invoice      428 non-null    object \n",
            " 7   EngineSize   428 non-null    float64\n",
            " 8   Cylinders    426 non-null    float64\n",
            " 9   Horsepower   428 non-null    int64  \n",
            " 10  MPG_City     428 non-null    int64  \n",
            " 11  MPG_Highway  428 non-null    int64  \n",
            " 12  Weight       428 non-null    int64  \n",
            " 13  Wheelbase    428 non-null    int64  \n",
            " 14  Length       428 non-null    int64  \n",
            "dtypes: float64(2), int64(6), object(7)\n",
            "memory usage: 50.3+ KB\n"
          ],
          "name": "stdout"
        }
      ]
    },
    {
      "cell_type": "code",
      "metadata": {
        "colab": {
          "base_uri": "https://localhost:8080/"
        },
        "id": "f3CE7dLOAecW",
        "outputId": "d96db672-40de-40f1-e05a-da4e600d2570"
      },
      "source": [
        "cars_df.isna().sum()"
      ],
      "execution_count": 9,
      "outputs": [
        {
          "output_type": "execute_result",
          "data": {
            "text/plain": [
              "Make           0\n",
              "Model          0\n",
              "Type           0\n",
              "Origin         0\n",
              "DriveTrain     0\n",
              "MSRP           0\n",
              "Invoice        0\n",
              "EngineSize     0\n",
              "Cylinders      2\n",
              "Horsepower     0\n",
              "MPG_City       0\n",
              "MPG_Highway    0\n",
              "Weight         0\n",
              "Wheelbase      0\n",
              "Length         0\n",
              "dtype: int64"
            ]
          },
          "metadata": {
            "tags": []
          },
          "execution_count": 9
        }
      ]
    },
    {
      "cell_type": "code",
      "metadata": {
        "id": "g6RpHTE4CKRn"
      },
      "source": [
        "cars_df=cars_df.dropna()"
      ],
      "execution_count": 10,
      "outputs": []
    },
    {
      "cell_type": "code",
      "metadata": {
        "id": "06EyDulbCX-O"
      },
      "source": [
        "cars_df['MSRP']=cars_df['MSRP'].str.replace('$','')"
      ],
      "execution_count": 11,
      "outputs": []
    },
    {
      "cell_type": "code",
      "metadata": {
        "id": "6Fykek1qDG6S"
      },
      "source": [
        "cars_df['MSRP']=cars_df['MSRP'].str.replace(',','')"
      ],
      "execution_count": 12,
      "outputs": []
    },
    {
      "cell_type": "code",
      "metadata": {
        "id": "IsVSNmx_CpgD"
      },
      "source": [
        "cars_df['MSRP']=cars_df['MSRP'].astype(int)"
      ],
      "execution_count": 13,
      "outputs": []
    },
    {
      "cell_type": "code",
      "metadata": {
        "id": "xnDN26q_CyhF"
      },
      "source": [
        "cars_df.drop(['Invoice'],axis=1,inplace=True)"
      ],
      "execution_count": 14,
      "outputs": []
    },
    {
      "cell_type": "code",
      "metadata": {
        "colab": {
          "base_uri": "https://localhost:8080/",
          "height": 326
        },
        "id": "rYgfpxQHDZU_",
        "outputId": "a4f5e46e-fab1-444d-9a7f-96cc102d0112"
      },
      "source": [
        "cars_df.head()"
      ],
      "execution_count": 15,
      "outputs": [
        {
          "output_type": "execute_result",
          "data": {
            "text/html": [
              "<div>\n",
              "<style scoped>\n",
              "    .dataframe tbody tr th:only-of-type {\n",
              "        vertical-align: middle;\n",
              "    }\n",
              "\n",
              "    .dataframe tbody tr th {\n",
              "        vertical-align: top;\n",
              "    }\n",
              "\n",
              "    .dataframe thead th {\n",
              "        text-align: right;\n",
              "    }\n",
              "</style>\n",
              "<table border=\"1\" class=\"dataframe\">\n",
              "  <thead>\n",
              "    <tr style=\"text-align: right;\">\n",
              "      <th></th>\n",
              "      <th>Make</th>\n",
              "      <th>Model</th>\n",
              "      <th>Type</th>\n",
              "      <th>Origin</th>\n",
              "      <th>DriveTrain</th>\n",
              "      <th>MSRP</th>\n",
              "      <th>EngineSize</th>\n",
              "      <th>Cylinders</th>\n",
              "      <th>Horsepower</th>\n",
              "      <th>MPG_City</th>\n",
              "      <th>MPG_Highway</th>\n",
              "      <th>Weight</th>\n",
              "      <th>Wheelbase</th>\n",
              "      <th>Length</th>\n",
              "    </tr>\n",
              "  </thead>\n",
              "  <tbody>\n",
              "    <tr>\n",
              "      <th>0</th>\n",
              "      <td>Acura</td>\n",
              "      <td>MDX</td>\n",
              "      <td>SUV</td>\n",
              "      <td>Asia</td>\n",
              "      <td>All</td>\n",
              "      <td>36945</td>\n",
              "      <td>3.5</td>\n",
              "      <td>6.0</td>\n",
              "      <td>265</td>\n",
              "      <td>17</td>\n",
              "      <td>23</td>\n",
              "      <td>4451</td>\n",
              "      <td>106</td>\n",
              "      <td>189</td>\n",
              "    </tr>\n",
              "    <tr>\n",
              "      <th>1</th>\n",
              "      <td>Acura</td>\n",
              "      <td>RSX Type S 2dr</td>\n",
              "      <td>Sedan</td>\n",
              "      <td>Asia</td>\n",
              "      <td>Front</td>\n",
              "      <td>23820</td>\n",
              "      <td>2.0</td>\n",
              "      <td>4.0</td>\n",
              "      <td>200</td>\n",
              "      <td>24</td>\n",
              "      <td>31</td>\n",
              "      <td>2778</td>\n",
              "      <td>101</td>\n",
              "      <td>172</td>\n",
              "    </tr>\n",
              "    <tr>\n",
              "      <th>2</th>\n",
              "      <td>Acura</td>\n",
              "      <td>TSX 4dr</td>\n",
              "      <td>Sedan</td>\n",
              "      <td>Asia</td>\n",
              "      <td>Front</td>\n",
              "      <td>26990</td>\n",
              "      <td>2.4</td>\n",
              "      <td>4.0</td>\n",
              "      <td>200</td>\n",
              "      <td>22</td>\n",
              "      <td>29</td>\n",
              "      <td>3230</td>\n",
              "      <td>105</td>\n",
              "      <td>183</td>\n",
              "    </tr>\n",
              "    <tr>\n",
              "      <th>3</th>\n",
              "      <td>Acura</td>\n",
              "      <td>TL 4dr</td>\n",
              "      <td>Sedan</td>\n",
              "      <td>Asia</td>\n",
              "      <td>Front</td>\n",
              "      <td>33195</td>\n",
              "      <td>3.2</td>\n",
              "      <td>6.0</td>\n",
              "      <td>270</td>\n",
              "      <td>20</td>\n",
              "      <td>28</td>\n",
              "      <td>3575</td>\n",
              "      <td>108</td>\n",
              "      <td>186</td>\n",
              "    </tr>\n",
              "    <tr>\n",
              "      <th>4</th>\n",
              "      <td>Acura</td>\n",
              "      <td>3.5 RL 4dr</td>\n",
              "      <td>Sedan</td>\n",
              "      <td>Asia</td>\n",
              "      <td>Front</td>\n",
              "      <td>43755</td>\n",
              "      <td>3.5</td>\n",
              "      <td>6.0</td>\n",
              "      <td>225</td>\n",
              "      <td>18</td>\n",
              "      <td>24</td>\n",
              "      <td>3880</td>\n",
              "      <td>115</td>\n",
              "      <td>197</td>\n",
              "    </tr>\n",
              "  </tbody>\n",
              "</table>\n",
              "</div>"
            ],
            "text/plain": [
              "    Make           Model   Type Origin  ... MPG_Highway  Weight  Wheelbase  Length\n",
              "0  Acura             MDX    SUV   Asia  ...          23    4451        106     189\n",
              "1  Acura  RSX Type S 2dr  Sedan   Asia  ...          31    2778        101     172\n",
              "2  Acura         TSX 4dr  Sedan   Asia  ...          29    3230        105     183\n",
              "3  Acura          TL 4dr  Sedan   Asia  ...          28    3575        108     186\n",
              "4  Acura      3.5 RL 4dr  Sedan   Asia  ...          24    3880        115     197\n",
              "\n",
              "[5 rows x 14 columns]"
            ]
          },
          "metadata": {
            "tags": []
          },
          "execution_count": 15
        }
      ]
    },
    {
      "cell_type": "code",
      "metadata": {
        "id": "UfKZI2h4Dath"
      },
      "source": [
        "cat_cols = cars_df.select_dtypes(['object']).columns"
      ],
      "execution_count": 16,
      "outputs": []
    },
    {
      "cell_type": "code",
      "metadata": {
        "colab": {
          "base_uri": "https://localhost:8080/"
        },
        "id": "FVO4nR6ZDrNi",
        "outputId": "00dfe439-25e9-4183-d47d-e4cc2e0a8028"
      },
      "source": [
        "cat_cols"
      ],
      "execution_count": 17,
      "outputs": [
        {
          "output_type": "execute_result",
          "data": {
            "text/plain": [
              "Index(['Make', 'Model', 'Type', 'Origin', 'DriveTrain'], dtype='object')"
            ]
          },
          "metadata": {
            "tags": []
          },
          "execution_count": 17
        }
      ]
    },
    {
      "cell_type": "code",
      "metadata": {
        "colab": {
          "base_uri": "https://localhost:8080/"
        },
        "id": "6x9MEe8RDsVj",
        "outputId": "cf523202-9a7a-41da-f913-27dddee9be14"
      },
      "source": [
        "for col in cat_cols:\n",
        "  dummy = pd.get_dummies(cars_df[col],prefix=col)\n",
        "  cars_df = pd.concat([cars_df,dummy],axis=1)\n",
        "  del cars_df[col]\n",
        "  print(col)\n",
        "  \n",
        "del dummy"
      ],
      "execution_count": 18,
      "outputs": [
        {
          "output_type": "stream",
          "text": [
            "Make\n",
            "Model\n",
            "Type\n",
            "Origin\n",
            "DriveTrain\n"
          ],
          "name": "stdout"
        }
      ]
    },
    {
      "cell_type": "code",
      "metadata": {
        "id": "612xbJLgEVQv",
        "colab": {
          "base_uri": "https://localhost:8080/"
        },
        "outputId": "fd816740-bd77-4d3a-f13a-1145d2887a8f"
      },
      "source": [
        "cars_df.shape"
      ],
      "execution_count": 19,
      "outputs": [
        {
          "output_type": "execute_result",
          "data": {
            "text/plain": [
              "(426, 482)"
            ]
          },
          "metadata": {
            "tags": []
          },
          "execution_count": 19
        }
      ]
    },
    {
      "cell_type": "code",
      "metadata": {
        "id": "3tO92Ye6I3Hl"
      },
      "source": [
        "X = cars_df.drop('MSRP',axis=1)\n",
        "y = cars_df['MSRP']"
      ],
      "execution_count": 20,
      "outputs": []
    },
    {
      "cell_type": "code",
      "metadata": {
        "id": "JPA1EySCNTz0"
      },
      "source": [
        "X = np.array(X)\n",
        "y = np.array(y)"
      ],
      "execution_count": 21,
      "outputs": []
    },
    {
      "cell_type": "code",
      "metadata": {
        "id": "QWUTeZUdJKwr"
      },
      "source": [
        "from sklearn.model_selection import train_test_split"
      ],
      "execution_count": 22,
      "outputs": []
    },
    {
      "cell_type": "code",
      "metadata": {
        "id": "JAyyu3AuJPA3"
      },
      "source": [
        "X_train,X_test,y_train,y_test = train_test_split(X,y,test_size=0.3,random_state=42)"
      ],
      "execution_count": 23,
      "outputs": []
    },
    {
      "cell_type": "code",
      "metadata": {
        "id": "2LMSQjspJWbe"
      },
      "source": [
        "from sklearn.ensemble import RandomForestRegressor"
      ],
      "execution_count": null,
      "outputs": []
    },
    {
      "cell_type": "code",
      "metadata": {
        "id": "xcdoa5H3JflR"
      },
      "source": [
        "rf = RandomForestRegressor(n_estimators=100,max_depth=5,random_state=42)"
      ],
      "execution_count": null,
      "outputs": []
    },
    {
      "cell_type": "code",
      "metadata": {
        "colab": {
          "base_uri": "https://localhost:8080/"
        },
        "id": "kCsR3mHQJlPL",
        "outputId": "c0e54c66-b352-41b1-c4c7-196f0a28e1ef"
      },
      "source": [
        "rf.fit(X_train,y_train)"
      ],
      "execution_count": null,
      "outputs": [
        {
          "output_type": "execute_result",
          "data": {
            "text/plain": [
              "RandomForestRegressor(bootstrap=True, ccp_alpha=0.0, criterion='mse',\n",
              "                      max_depth=5, max_features='auto', max_leaf_nodes=None,\n",
              "                      max_samples=None, min_impurity_decrease=0.0,\n",
              "                      min_impurity_split=None, min_samples_leaf=1,\n",
              "                      min_samples_split=2, min_weight_fraction_leaf=0.0,\n",
              "                      n_estimators=100, n_jobs=None, oob_score=False,\n",
              "                      random_state=42, verbose=0, warm_start=False)"
            ]
          },
          "metadata": {
            "tags": []
          },
          "execution_count": 26
        }
      ]
    },
    {
      "cell_type": "code",
      "metadata": {
        "id": "D7n2UxTeJnrX"
      },
      "source": [
        "preds = rf.predict(X_test)"
      ],
      "execution_count": null,
      "outputs": []
    },
    {
      "cell_type": "code",
      "metadata": {
        "colab": {
          "base_uri": "https://localhost:8080/"
        },
        "id": "zulJHim_J2cK",
        "outputId": "fb89a44e-1c6c-4f49-a61f-057cfb11643d"
      },
      "source": [
        "np.sqrt(mean_squared_error(y_test,preds))"
      ],
      "execution_count": null,
      "outputs": [
        {
          "output_type": "execute_result",
          "data": {
            "text/plain": [
              "6170.1579407519175"
            ]
          },
          "metadata": {
            "tags": []
          },
          "execution_count": 32
        }
      ]
    },
    {
      "cell_type": "code",
      "metadata": {
        "colab": {
          "base_uri": "https://localhost:8080/"
        },
        "id": "YVhT3yXtJ5Sy",
        "outputId": "81cbc7c1-b2dc-4aa1-9dfd-29e92b5180db"
      },
      "source": [
        "rf.score(X_test,y_test)"
      ],
      "execution_count": null,
      "outputs": [
        {
          "output_type": "execute_result",
          "data": {
            "text/plain": [
              "0.859300409159617"
            ]
          },
          "metadata": {
            "tags": []
          },
          "execution_count": 33
        }
      ]
    },
    {
      "cell_type": "markdown",
      "metadata": {
        "id": "Oj8BLXslKk7X"
      },
      "source": [
        "Using XGBoost Regressor"
      ]
    },
    {
      "cell_type": "code",
      "metadata": {
        "id": "xmcgoaD3Ke4O"
      },
      "source": [
        "from xgboost.sklearn import XGBRegressor"
      ],
      "execution_count": 24,
      "outputs": []
    },
    {
      "cell_type": "code",
      "metadata": {
        "id": "XKmBFNo-K3af"
      },
      "source": [
        "xgb = XGBRegressor(objective='reg:linear',n_estimators=100,learning_rate=0.1,random_state=42)"
      ],
      "execution_count": 25,
      "outputs": []
    },
    {
      "cell_type": "code",
      "metadata": {
        "colab": {
          "base_uri": "https://localhost:8080/"
        },
        "id": "8D3S3S1_K_wa",
        "outputId": "7be7684b-0dbc-40d7-e3cb-d2a7956dfb92"
      },
      "source": [
        "xgb.fit(X_train,y_train)"
      ],
      "execution_count": 26,
      "outputs": [
        {
          "output_type": "stream",
          "text": [
            "[07:36:51] WARNING: /workspace/src/objective/regression_obj.cu:152: reg:linear is now deprecated in favor of reg:squarederror.\n"
          ],
          "name": "stdout"
        },
        {
          "output_type": "execute_result",
          "data": {
            "text/plain": [
              "XGBRegressor(base_score=0.5, booster='gbtree', colsample_bylevel=1,\n",
              "             colsample_bynode=1, colsample_bytree=1, gamma=0,\n",
              "             importance_type='gain', learning_rate=0.1, max_delta_step=0,\n",
              "             max_depth=3, min_child_weight=1, missing=None, n_estimators=100,\n",
              "             n_jobs=1, nthread=None, objective='reg:linear', random_state=42,\n",
              "             reg_alpha=0, reg_lambda=1, scale_pos_weight=1, seed=None,\n",
              "             silent=None, subsample=1, verbosity=1)"
            ]
          },
          "metadata": {
            "tags": []
          },
          "execution_count": 26
        }
      ]
    },
    {
      "cell_type": "code",
      "metadata": {
        "id": "DGiFrJt6LCOt"
      },
      "source": [
        "pred_xgb = xgb.predict(X_test)"
      ],
      "execution_count": 27,
      "outputs": []
    },
    {
      "cell_type": "code",
      "metadata": {
        "id": "YodrHVMuM21b"
      },
      "source": [
        "from sklearn.metrics import mean_squared_error"
      ],
      "execution_count": 28,
      "outputs": []
    },
    {
      "cell_type": "code",
      "metadata": {
        "colab": {
          "base_uri": "https://localhost:8080/"
        },
        "id": "aoFYd8J6LG5m",
        "outputId": "c39baf9d-c626-464f-c44d-daea84db8d3a"
      },
      "source": [
        "np.sqrt(mean_squared_error(y_test,pred_xgb))"
      ],
      "execution_count": 29,
      "outputs": [
        {
          "output_type": "execute_result",
          "data": {
            "text/plain": [
              "5282.756654572625"
            ]
          },
          "metadata": {
            "tags": []
          },
          "execution_count": 29
        }
      ]
    },
    {
      "cell_type": "code",
      "metadata": {
        "colab": {
          "base_uri": "https://localhost:8080/"
        },
        "id": "HVtvwvkMLLao",
        "outputId": "9ed5f22e-522b-4ce0-c78f-8b5439789f33"
      },
      "source": [
        "xgb.score(X_test,y_test)"
      ],
      "execution_count": 30,
      "outputs": [
        {
          "output_type": "execute_result",
          "data": {
            "text/plain": [
              "0.896861340169869"
            ]
          },
          "metadata": {
            "tags": []
          },
          "execution_count": 30
        }
      ]
    },
    {
      "cell_type": "code",
      "metadata": {
        "colab": {
          "base_uri": "https://localhost:8080/"
        },
        "id": "vZ2WPnwNM9jU",
        "outputId": "061d70ed-4700-41fd-9821-4fdf8bbbe689"
      },
      "source": [
        "pred_xgb"
      ],
      "execution_count": 31,
      "outputs": [
        {
          "output_type": "execute_result",
          "data": {
            "text/plain": [
              "array([ 58607.074,  21955.31 ,  25929.846,  31547.473,  28684.15 ,\n",
              "        15988.575,  15344.845,  20628.664,  24989.871,  17006.904,\n",
              "        42282.184,  15631.675,  67734.41 ,  75401.836,  70130.44 ,\n",
              "        33142.56 , 126815.91 ,  23657.656,  37487.832,  27285.44 ,\n",
              "        52365.71 ,  39773.484,  47718.86 ,  45442.258,  21069.352,\n",
              "        76698.67 ,  19860.51 ,  20946.65 ,  43953.94 ,  64941.3  ,\n",
              "        19594.043,  64819.844,  22831.025,  23321.799,  31128.998,\n",
              "        32241.78 ,  40591.08 ,  17293.734,  26089.941,  38959.605,\n",
              "        37579.14 ,  20631.637,  22882.865,  18248.363,  36910.15 ,\n",
              "        21048.635,  27125.262,  24711.945,  36887.133,  30490.814,\n",
              "        39934.33 ,  44525.01 ,  14472.663,  42697.953,  52483.18 ,\n",
              "        30135.879,  30924.57 ,  49465.094,  34222.51 ,  51875.418,\n",
              "        19907.404,  16844.262,  24711.945,  19525.344,  19896.662,\n",
              "        55758.184,  15344.845,  33777.5  ,  21541.746,  63971.523,\n",
              "        15344.845,  40322.832,  33033.973,  31287.55 ,  40464.344,\n",
              "        76127.82 ,  39998.047,  34888.95 ,  18711.205,  31819.87 ,\n",
              "        30022.207,  41787.277,  37182.94 ,  15303.326,  40061.062,\n",
              "        62998.145,  17713.725,  26796.062,  32121.533,  31128.998,\n",
              "        38513.547,  26831.28 ,  21541.746,  29215.525,  26896.053,\n",
              "        25803.111,  28939.748,  14472.663,  40920.55 ,  32633.729,\n",
              "        17006.904,  15344.845,  15701.745,  38851.06 ,  40591.08 ,\n",
              "        18299.9  ,  32284.438,  28470.084,  40323.605,  68798.414,\n",
              "        27305.236,  41617.84 ,  24465.71 ,  21722.592,  38579.7  ,\n",
              "        19517.615,  18375.098,  66973.195,  29845.123,  26896.053,\n",
              "        15344.845,  15344.845,  40555.125,  26896.053,  15988.575,\n",
              "        38526.543,  24711.945,  26204.586], dtype=float32)"
            ]
          },
          "metadata": {
            "tags": []
          },
          "execution_count": 31
        }
      ]
    },
    {
      "cell_type": "code",
      "metadata": {
        "colab": {
          "base_uri": "https://localhost:8080/"
        },
        "id": "_uI2lIUEM-BD",
        "outputId": "f40ac16b-9a1e-425e-842d-402c57a316b0"
      },
      "source": [
        "X_test"
      ],
      "execution_count": 32,
      "outputs": [
        {
          "output_type": "execute_result",
          "data": {
            "text/plain": [
              "array([[  2.5,   5. , 300. , ...,   1. ,   0. ,   0. ],\n",
              "       [  3.4,   6. , 180. , ...,   0. ,   1. ,   0. ],\n",
              "       [  3.5,   6. , 194. , ...,   0. ,   1. ,   0. ],\n",
              "       ...,\n",
              "       [  5.6,   8. , 305. , ...,   0. ,   1. ,   0. ],\n",
              "       [  2.7,   6. , 200. , ...,   0. ,   1. ,   0. ],\n",
              "       [  3.3,   6. , 180. , ...,   0. ,   1. ,   0. ]])"
            ]
          },
          "metadata": {
            "tags": []
          },
          "execution_count": 32
        }
      ]
    },
    {
      "cell_type": "code",
      "metadata": {
        "id": "OA5WcN7MM-LI"
      },
      "source": [
        "EngineSize, Cylinders,\tHorsepower,\tMPG_City,\tMPG_Highway,\tWeight,\tWheelbase, Length, Make,\tModel,\tType,\tOrigin,\tDriveTrain"
      ],
      "execution_count": null,
      "outputs": []
    },
    {
      "cell_type": "code",
      "metadata": {
        "id": "NVGe3gkLM-QG"
      },
      "source": [
        ""
      ],
      "execution_count": null,
      "outputs": []
    },
    {
      "cell_type": "code",
      "metadata": {
        "id": "KMT6g1ZxKCf7"
      },
      "source": [
        "xgb.save_model('XGB_model.bin')"
      ],
      "execution_count": 34,
      "outputs": []
    },
    {
      "cell_type": "code",
      "metadata": {
        "id": "xlFWbtnmKC-k"
      },
      "source": [
        ""
      ],
      "execution_count": null,
      "outputs": []
    },
    {
      "cell_type": "code",
      "metadata": {
        "id": "lZ4GkoKYKDOq"
      },
      "source": [
        ""
      ],
      "execution_count": null,
      "outputs": []
    },
    {
      "cell_type": "code",
      "metadata": {
        "id": "cI2zNuYrLRUG"
      },
      "source": [
        "import pickle"
      ],
      "execution_count": null,
      "outputs": []
    },
    {
      "cell_type": "code",
      "metadata": {
        "id": "459VK_uYLW6d"
      },
      "source": [
        "pickle_out = open(\"XGB_Cars.pkl\",\"wb\")\n",
        "pickle.dump(xgb,pickle_out)"
      ],
      "execution_count": null,
      "outputs": []
    },
    {
      "cell_type": "code",
      "metadata": {
        "colab": {
          "base_uri": "https://localhost:8080/"
        },
        "id": "RGvP1LstL0nN",
        "outputId": "ed1fbdab-2fa6-46bf-c3c7-80499bb38d6c"
      },
      "source": [
        "model = pickle.load(open(\"/content/XGB_Cars.pkl\",\"rb\"))"
      ],
      "execution_count": null,
      "outputs": [
        {
          "output_type": "stream",
          "text": [
            "[17:47:59] WARNING: /workspace/src/objective/regression_obj.cu:152: reg:linear is now deprecated in favor of reg:squarederror.\n"
          ],
          "name": "stdout"
        }
      ]
    },
    {
      "cell_type": "code",
      "metadata": {
        "id": "zqcJRxdhKA8p"
      },
      "source": [
        ""
      ],
      "execution_count": null,
      "outputs": []
    }
  ]
}